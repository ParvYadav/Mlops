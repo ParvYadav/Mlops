{
 "cells": [
  {
   "cell_type": "code",
   "execution_count": 1,
   "id": "f913f927-0c8b-4c04-8104-c8dcd4169f7d",
   "metadata": {},
   "outputs": [],
   "source": [
    "import os \n",
    "import pandas as pd"
   ]
  },
  {
   "cell_type": "code",
   "execution_count": 3,
   "id": "45867f53-aab3-448e-8b04-382942c472bb",
   "metadata": {},
   "outputs": [],
   "source": [
    "df = pd.read_csv('../data_given/winequality.csv')"
   ]
  },
  {
   "cell_type": "code",
   "execution_count": 4,
   "id": "7abe4bdc-85ba-4093-95af-c85a84cb3c06",
   "metadata": {},
   "outputs": [],
   "source": [
    "overview = df.describe()\n"
   ]
  },
  {
   "cell_type": "code",
   "execution_count": 5,
   "id": "a41be8b2-a09d-49d2-bc55-1567c528cf80",
   "metadata": {},
   "outputs": [],
   "source": [
    "overview.loc[['min','max']].to_json('schema_in.json')"
   ]
  },
  {
   "cell_type": "code",
   "execution_count": null,
   "id": "069c0899-af3c-47e2-a366-0af0c302e0fd",
   "metadata": {},
   "outputs": [],
   "source": []
  }
 ],
 "metadata": {
  "kernelspec": {
   "display_name": "Python 3 (ipykernel)",
   "language": "python",
   "name": "python3"
  },
  "language_info": {
   "codemirror_mode": {
    "name": "ipython",
    "version": 3
   },
   "file_extension": ".py",
   "mimetype": "text/x-python",
   "name": "python",
   "nbconvert_exporter": "python",
   "pygments_lexer": "ipython3",
   "version": "3.9.7"
  }
 },
 "nbformat": 4,
 "nbformat_minor": 5
}
